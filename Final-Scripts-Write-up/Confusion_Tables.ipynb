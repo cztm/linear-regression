{
 "cells": [
  {
   "cell_type": "markdown",
   "metadata": {},
   "source": [
    "# Linear Regression to Predict Student Performance"
   ]
  },
  {
   "cell_type": "code",
   "execution_count": 1,
   "metadata": {},
   "outputs": [],
   "source": [
    "import matplotlib.pyplot as plt \n",
    "from matplotlib import gridspec\n",
    "import seaborn as sns\n",
    "\n",
    "import pandas as pd\n",
    "import numpy as np\n",
    "\n",
    "import statsmodels.api as sm\n",
    "import statsmodels.formula.api as smf"
   ]
  },
  {
   "cell_type": "code",
   "execution_count": 2,
   "metadata": {},
   "outputs": [],
   "source": [
    "students = pd.read_csv(\"StudentPerformanceFactors.csv\")"
   ]
  },
  {
   "cell_type": "markdown",
   "metadata": {},
   "source": [
    "##### Confusion tables"
   ]
  },
  {
   "cell_type": "code",
   "execution_count": 19,
   "metadata": {},
   "outputs": [
    {
     "name": "stdout",
     "output_type": "stream",
     "text": [
      "Access_to_Resources   High  Low  Medium\n",
      "Parental_Involvement                   \n",
      "High                   568  413     927\n",
      "Low                    414  231     692\n",
      "Medium                 993  669    1700\n"
     ]
    }
   ],
   "source": [
    "parent_invol_resource_access_crossed = pd.crosstab(students['Parental_Involvement'],students['Access_to_Resources'])\n",
    "print(parent_invol_resource_access_crossed)"
   ]
  },
  {
   "cell_type": "code",
   "execution_count": 20,
   "metadata": {},
   "outputs": [
    {
     "name": "stdout",
     "output_type": "stream",
     "text": [
      "Family_Income   High   Low  Medium\n",
      "Peer_Influence                    \n",
      "Negative         251   577     549\n",
      "Neutral          493  1038    1061\n",
      "Positive         525  1057    1056\n"
     ]
    }
   ],
   "source": [
    "peer_influence_income_crossed = pd.crosstab(students['Peer_Influence'],students['Family_Income'])\n",
    "print(peer_influence_income_crossed)"
   ]
  },
  {
   "cell_type": "code",
   "execution_count": 21,
   "metadata": {},
   "outputs": [
    {
     "name": "stdout",
     "output_type": "stream",
     "text": [
      "Motivation_Level    High   Low  Medium\n",
      "Distance_from_Home                    \n",
      "Far                  142   185     331\n",
      "Moderate             394   611     993\n",
      "Near                 773  1125    1986\n"
     ]
    }
   ],
   "source": [
    "distance_motivation_crossed = pd.crosstab(students['Distance_from_Home'], students['Motivation_Level'])\n",
    "print(distance_motivation_crossed)"
   ]
  },
  {
   "cell_type": "code",
   "execution_count": 22,
   "metadata": {},
   "outputs": [],
   "source": [
    "students = students.drop(columns=['Distance_from_Home', 'Peer_Influence', 'Parental_Involvement'])"
   ]
  },
  {
   "cell_type": "code",
   "execution_count": 23,
   "metadata": {},
   "outputs": [
    {
     "data": {
      "text/html": [
       "<div>\n",
       "<style scoped>\n",
       "    .dataframe tbody tr th:only-of-type {\n",
       "        vertical-align: middle;\n",
       "    }\n",
       "\n",
       "    .dataframe tbody tr th {\n",
       "        vertical-align: top;\n",
       "    }\n",
       "\n",
       "    .dataframe thead th {\n",
       "        text-align: right;\n",
       "    }\n",
       "</style>\n",
       "<table border=\"1\" class=\"dataframe\">\n",
       "  <thead>\n",
       "    <tr style=\"text-align: right;\">\n",
       "      <th></th>\n",
       "      <th>Hours_Studied</th>\n",
       "      <th>Attendance</th>\n",
       "      <th>Access_to_Resources</th>\n",
       "      <th>Extracurricular_Activities</th>\n",
       "      <th>Sleep_Hours</th>\n",
       "      <th>Previous_Scores</th>\n",
       "      <th>Motivation_Level</th>\n",
       "      <th>Internet_Access</th>\n",
       "      <th>Tutoring_Sessions</th>\n",
       "      <th>Family_Income</th>\n",
       "      <th>Teacher_Quality</th>\n",
       "      <th>School_Type</th>\n",
       "      <th>Physical_Activity</th>\n",
       "      <th>Learning_Disabilities</th>\n",
       "      <th>Parental_Education_Level</th>\n",
       "      <th>Gender</th>\n",
       "      <th>Exam_Score</th>\n",
       "    </tr>\n",
       "  </thead>\n",
       "  <tbody>\n",
       "    <tr>\n",
       "      <th>4590</th>\n",
       "      <td>16</td>\n",
       "      <td>67</td>\n",
       "      <td>Medium</td>\n",
       "      <td>Yes</td>\n",
       "      <td>5</td>\n",
       "      <td>56</td>\n",
       "      <td>Low</td>\n",
       "      <td>Yes</td>\n",
       "      <td>1</td>\n",
       "      <td>Low</td>\n",
       "      <td>Medium</td>\n",
       "      <td>Public</td>\n",
       "      <td>2</td>\n",
       "      <td>No</td>\n",
       "      <td>College</td>\n",
       "      <td>Female</td>\n",
       "      <td>61</td>\n",
       "    </tr>\n",
       "    <tr>\n",
       "      <th>708</th>\n",
       "      <td>8</td>\n",
       "      <td>97</td>\n",
       "      <td>High</td>\n",
       "      <td>Yes</td>\n",
       "      <td>8</td>\n",
       "      <td>87</td>\n",
       "      <td>Medium</td>\n",
       "      <td>Yes</td>\n",
       "      <td>0</td>\n",
       "      <td>Medium</td>\n",
       "      <td>Medium</td>\n",
       "      <td>Public</td>\n",
       "      <td>2</td>\n",
       "      <td>Yes</td>\n",
       "      <td>High School</td>\n",
       "      <td>Male</td>\n",
       "      <td>67</td>\n",
       "    </tr>\n",
       "    <tr>\n",
       "      <th>5945</th>\n",
       "      <td>25</td>\n",
       "      <td>98</td>\n",
       "      <td>High</td>\n",
       "      <td>Yes</td>\n",
       "      <td>8</td>\n",
       "      <td>51</td>\n",
       "      <td>Medium</td>\n",
       "      <td>Yes</td>\n",
       "      <td>0</td>\n",
       "      <td>Medium</td>\n",
       "      <td>Medium</td>\n",
       "      <td>Private</td>\n",
       "      <td>2</td>\n",
       "      <td>No</td>\n",
       "      <td>College</td>\n",
       "      <td>Female</td>\n",
       "      <td>72</td>\n",
       "    </tr>\n",
       "    <tr>\n",
       "      <th>827</th>\n",
       "      <td>17</td>\n",
       "      <td>96</td>\n",
       "      <td>Medium</td>\n",
       "      <td>Yes</td>\n",
       "      <td>6</td>\n",
       "      <td>54</td>\n",
       "      <td>Medium</td>\n",
       "      <td>Yes</td>\n",
       "      <td>1</td>\n",
       "      <td>Medium</td>\n",
       "      <td>Medium</td>\n",
       "      <td>Private</td>\n",
       "      <td>4</td>\n",
       "      <td>No</td>\n",
       "      <td>High School</td>\n",
       "      <td>Male</td>\n",
       "      <td>69</td>\n",
       "    </tr>\n",
       "    <tr>\n",
       "      <th>3444</th>\n",
       "      <td>24</td>\n",
       "      <td>81</td>\n",
       "      <td>High</td>\n",
       "      <td>Yes</td>\n",
       "      <td>9</td>\n",
       "      <td>64</td>\n",
       "      <td>High</td>\n",
       "      <td>Yes</td>\n",
       "      <td>2</td>\n",
       "      <td>High</td>\n",
       "      <td>Low</td>\n",
       "      <td>Public</td>\n",
       "      <td>3</td>\n",
       "      <td>No</td>\n",
       "      <td>High School</td>\n",
       "      <td>Male</td>\n",
       "      <td>70</td>\n",
       "    </tr>\n",
       "  </tbody>\n",
       "</table>\n",
       "</div>"
      ],
      "text/plain": [
       "      Hours_Studied  Attendance Access_to_Resources  \\\n",
       "4590             16          67              Medium   \n",
       "708               8          97                High   \n",
       "5945             25          98                High   \n",
       "827              17          96              Medium   \n",
       "3444             24          81                High   \n",
       "\n",
       "     Extracurricular_Activities  Sleep_Hours  Previous_Scores  \\\n",
       "4590                        Yes            5               56   \n",
       "708                         Yes            8               87   \n",
       "5945                        Yes            8               51   \n",
       "827                         Yes            6               54   \n",
       "3444                        Yes            9               64   \n",
       "\n",
       "     Motivation_Level Internet_Access  Tutoring_Sessions Family_Income  \\\n",
       "4590              Low             Yes                  1           Low   \n",
       "708            Medium             Yes                  0        Medium   \n",
       "5945           Medium             Yes                  0        Medium   \n",
       "827            Medium             Yes                  1        Medium   \n",
       "3444             High             Yes                  2          High   \n",
       "\n",
       "     Teacher_Quality School_Type  Physical_Activity Learning_Disabilities  \\\n",
       "4590          Medium      Public                  2                    No   \n",
       "708           Medium      Public                  2                   Yes   \n",
       "5945          Medium     Private                  2                    No   \n",
       "827           Medium     Private                  4                    No   \n",
       "3444             Low      Public                  3                    No   \n",
       "\n",
       "     Parental_Education_Level  Gender  Exam_Score  \n",
       "4590                  College  Female          61  \n",
       "708               High School    Male          67  \n",
       "5945                  College  Female          72  \n",
       "827               High School    Male          69  \n",
       "3444              High School    Male          70  "
      ]
     },
     "execution_count": 23,
     "metadata": {},
     "output_type": "execute_result"
    }
   ],
   "source": [
    "students.sample(5)"
   ]
  },
  {
   "cell_type": "markdown",
   "metadata": {},
   "source": [
    "Since students who have medium/high parental involvement also have medium/high access to resources, both categories aren't necessary for the model and since access to resources matters more for our model, we have dropped parental involvement. Similarly, medium/high family income students have neutral/positive peer relationships and those with medium/high motivation levels live moderate/near school. Since there are associations between those two groups, we've chosen to kep family income and motivation levels as they variables that we're interested in. "
   ]
  }
 ],
 "metadata": {
  "kernelspec": {
   "display_name": "base",
   "language": "python",
   "name": "python3"
  },
  "language_info": {
   "codemirror_mode": {
    "name": "ipython",
    "version": 3
   },
   "file_extension": ".py",
   "mimetype": "text/x-python",
   "name": "python",
   "nbconvert_exporter": "python",
   "pygments_lexer": "ipython3",
   "version": "3.12.4"
  }
 },
 "nbformat": 4,
 "nbformat_minor": 2
}
